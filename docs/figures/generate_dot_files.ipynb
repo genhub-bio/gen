{
 "cells": [
  {
   "cell_type": "code",
   "execution_count": 3,
   "metadata": {},
   "outputs": [],
   "source": [
    "import networkx as nx\n",
    "import matplotlib.pyplot as plt \n",
    "from IPython.display import SVG, display"
   ]
  },
  {
   "cell_type": "markdown",
   "metadata": {},
   "source": [
    "# README\n",
    "\n",
    "## Figure 1"
   ]
  },
  {
   "cell_type": "code",
   "execution_count": 71,
   "metadata": {},
   "outputs": [
    {
     "data": {
      "image/svg+xml": [
       "<svg xmlns=\"http://www.w3.org/2000/svg\" xmlns:xlink=\"http://www.w3.org/1999/xlink\" width=\"269pt\" height=\"116pt\" viewBox=\"0.00 0.00 269.25 116.00\">\n",
       "<g id=\"graph0\" class=\"graph\" transform=\"scale(1 1) rotate(0) translate(4 112)\">\n",
       "<polygon fill=\"white\" stroke=\"none\" points=\"-4,4 -4,-112 265.25,-112 265.25,4 -4,4\"/>\n",
       "<!-- 1 -->\n",
       "<g id=\"node1\" class=\"node\">\n",
       "<title>1</title>\n",
       "<text text-anchor=\"start\" x=\"2\" y=\"-84.95\" font-family=\"Times,serif\" font-size=\"14.00\">1: </text>\n",
       "<polygon fill=\"none\" stroke=\"black\" points=\"18.25,-78.75 18.25,-101.25 34,-101.25 34,-78.75 18.25,-78.75\"/>\n",
       "<text text-anchor=\"start\" x=\"21.25\" y=\"-84.95\" font-family=\"Times,serif\" font-size=\"14.00\">A</text>\n",
       "<polygon fill=\"none\" stroke=\"black\" points=\"34,-78.75 34,-101.25 48.25,-101.25 48.25,-78.75 34,-78.75\"/>\n",
       "<text text-anchor=\"start\" x=\"37\" y=\"-84.95\" font-family=\"Times,serif\" font-size=\"14.00\">T</text>\n",
       "<polygon fill=\"none\" stroke=\"black\" points=\"48.25,-78.75 48.25,-101.25 64,-101.25 64,-78.75 48.25,-78.75\"/>\n",
       "<text text-anchor=\"start\" x=\"51.25\" y=\"-84.95\" font-family=\"Times,serif\" font-size=\"14.00\">G</text>\n",
       "<polygon fill=\"none\" stroke=\"black\" points=\"64,-78.75 64,-101.25 78.25,-101.25 78.25,-78.75 64,-78.75\"/>\n",
       "<text text-anchor=\"start\" x=\"67\" y=\"-84.95\" font-family=\"Times,serif\" font-size=\"14.00\">T</text>\n",
       "<polygon fill=\"none\" stroke=\"black\" points=\"78.25,-78.75 78.25,-101.25 94,-101.25 94,-78.75 78.25,-78.75\"/>\n",
       "<text text-anchor=\"start\" x=\"81.25\" y=\"-84.95\" font-family=\"Times,serif\" font-size=\"14.00\">A</text>\n",
       "<polygon fill=\"none\" stroke=\"black\" points=\"94,-78.75 94,-101.25 108.25,-101.25 108.25,-78.75 94,-78.75\"/>\n",
       "<text text-anchor=\"start\" x=\"97\" y=\"-84.95\" font-family=\"Times,serif\" font-size=\"14.00\">T</text>\n",
       "<polygon fill=\"none\" stroke=\"black\" points=\"108.25,-78.75 108.25,-101.25 124,-101.25 124,-78.75 108.25,-78.75\"/>\n",
       "<text text-anchor=\"start\" x=\"111.25\" y=\"-84.95\" font-family=\"Times,serif\" font-size=\"14.00\">A</text>\n",
       "<polygon fill=\"none\" stroke=\"black\" points=\"124,-78.75 124,-101.25 139,-101.25 139,-78.75 124,-78.75\"/>\n",
       "<text text-anchor=\"start\" x=\"127\" y=\"-84.95\" font-family=\"Times,serif\" font-size=\"14.00\">C</text>\n",
       "<polygon fill=\"none\" stroke=\"black\" points=\"139,-78.75 139,-101.25 154.75,-101.25 154.75,-78.75 139,-78.75\"/>\n",
       "<text text-anchor=\"start\" x=\"142\" y=\"-84.95\" font-family=\"Times,serif\" font-size=\"14.00\">A</text>\n",
       "<polygon fill=\"none\" stroke=\"black\" points=\"154.75,-78.75 154.75,-101.25 169,-101.25 169,-78.75 154.75,-78.75\"/>\n",
       "<text text-anchor=\"start\" x=\"157.75\" y=\"-84.95\" font-family=\"Times,serif\" font-size=\"14.00\">T</text>\n",
       "<polygon fill=\"none\" stroke=\"black\" points=\"169,-78.75 169,-101.25 184,-101.25 184,-78.75 169,-78.75\"/>\n",
       "<text text-anchor=\"start\" x=\"172\" y=\"-84.95\" font-family=\"Times,serif\" font-size=\"14.00\">C</text>\n",
       "<polygon fill=\"none\" stroke=\"black\" points=\"184,-78.75 184,-101.25 199.75,-101.25 199.75,-78.75 184,-78.75\"/>\n",
       "<text text-anchor=\"start\" x=\"187\" y=\"-84.95\" font-family=\"Times,serif\" font-size=\"14.00\">A</text>\n",
       "<polygon fill=\"none\" stroke=\"black\" points=\"199.75,-78.75 199.75,-101.25 214.75,-101.25 214.75,-78.75 199.75,-78.75\"/>\n",
       "<text text-anchor=\"start\" x=\"202.75\" y=\"-84.95\" font-family=\"Times,serif\" font-size=\"14.00\">C</text>\n",
       "<polygon fill=\"none\" stroke=\"black\" points=\"214.75,-78.75 214.75,-101.25 230.5,-101.25 230.5,-78.75 214.75,-78.75\"/>\n",
       "<text text-anchor=\"start\" x=\"217.75\" y=\"-84.95\" font-family=\"Times,serif\" font-size=\"14.00\">G</text>\n",
       "<polygon fill=\"none\" stroke=\"black\" points=\"230.5,-78.75 230.5,-101.25 246.25,-101.25 246.25,-78.75 230.5,-78.75\"/>\n",
       "<text text-anchor=\"start\" x=\"233.5\" y=\"-84.95\" font-family=\"Times,serif\" font-size=\"14.00\">G</text>\n",
       "<polygon fill=\"none\" stroke=\"black\" points=\"246.25,-78.75 246.25,-101.25 261.25,-101.25 261.25,-78.75 246.25,-78.75\"/>\n",
       "<text text-anchor=\"start\" x=\"249.25\" y=\"-84.95\" font-family=\"Times,serif\" font-size=\"14.00\">C</text>\n",
       "</g>\n",
       "<!-- 2 -->\n",
       "<g id=\"node2\" class=\"node\">\n",
       "<title>2</title>\n",
       "<text text-anchor=\"start\" x=\"122.5\" y=\"-12.95\" font-family=\"Times,serif\" font-size=\"14.00\">2: </text>\n",
       "<polygon fill=\"none\" stroke=\"black\" points=\"138.75,-6.75 138.75,-29.25 153,-29.25 153,-6.75 138.75,-6.75\"/>\n",
       "<text text-anchor=\"start\" x=\"141.75\" y=\"-12.95\" font-family=\"Times,serif\" font-size=\"14.00\">T</text>\n",
       "<polygon fill=\"none\" stroke=\"black\" points=\"153,-6.75 153,-29.25 168.75,-29.25 168.75,-6.75 153,-6.75\"/>\n",
       "<text text-anchor=\"start\" x=\"156\" y=\"-12.95\" font-family=\"Times,serif\" font-size=\"14.00\">G</text>\n",
       "</g>\n",
       "<!-- 1&#45;&gt;2 -->\n",
       "<g id=\"edge1\" class=\"edge\">\n",
       "<title>1:7-&gt;2:0</title>\n",
       "<path fill=\"none\" stroke=\"black\" d=\"M131.5,-77.75C131.5,-60 140.81,-54.34 144.45,-41.32\"/>\n",
       "<polygon fill=\"black\" stroke=\"black\" points=\"147.87,-42.12 145.68,-31.75 140.93,-41.22 147.87,-42.12\"/>\n",
       "</g>\n",
       "<!-- 2&#45;&gt;1 -->\n",
       "<g id=\"edge2\" class=\"edge\">\n",
       "<title>2:1-&gt;1:10</title>\n",
       "<path fill=\"none\" stroke=\"black\" d=\"M160.88,-30.25C160.88,-48.13 170.99,-53.6 174.95,-66.64\"/>\n",
       "<polygon fill=\"black\" stroke=\"black\" points=\"171.44,-66.83 176.29,-76.25 178.37,-65.86 171.44,-66.83\"/>\n",
       "</g>\n",
       "</g>\n",
       "</svg>"
      ],
      "text/plain": [
       "<IPython.core.display.SVG object>"
      ]
     },
     "metadata": {},
     "output_type": "display_data"
    }
   ],
   "source": [
    "class BlockGraph:\n",
    "    def __init__(self):\n",
    "        self.graph = nx.DiGraph()\n",
    "\n",
    "    def add_node(self, sequence):\n",
    "        \"\"\"\n",
    "        Adds a node to the graph.\n",
    "\n",
    "        Parameters:\n",
    "        sequence (str): The sequence associated with a node. Note that in the actual gen code the sequence is hashed to save space.\n",
    "        \"\"\"\n",
    "        node_id = self.graph.number_of_nodes() + 1\n",
    "        self.graph.add_node(node_id, sequence=sequence)\n",
    "        return node_id\n",
    "\n",
    "    def add_edge(self, source, target):\n",
    "        \"\"\"\n",
    "        Adds an edge to the graph with port information stored as edge attributes.\n",
    "\n",
    "        Parameters:\n",
    "        source (tuple): A tuple containing the source node and the position from which the edge departs.\n",
    "        target (tuple): A tuple containing the target node and the position at which the edge arrives.\n",
    "        \"\"\"\n",
    "        self.graph.add_edge(source[0], target[0], from_pos=source[1], to_pos=target[1])\n",
    "\n",
    "    def render_graph(self, save_dot=None):\n",
    "        # Create a copy of the graph to avoid modifying the original\n",
    "        graph = self.graph.copy()\n",
    "    \n",
    "        for node in graph.nodes:\n",
    "            # Break up the sequence into nucleotides and port markers for graphviz\n",
    "            label = '\\n'.join(f'<TD PORT=\"{i}\">{c}</TD>' for i, c in enumerate(graph.nodes[node]['sequence']))\n",
    "            # TODO: replace by html labels\n",
    "            graph.nodes[node]['shape'] = 'none'\n",
    "            graph.nodes[node]['margin'] = 0\n",
    "            graph.nodes[node]['label'] = f\"<<TABLE BORDER='0' CELLBORDER='1' CELLSPACING='0'><TR>\"\n",
    "            graph.nodes[node]['label'] += f\"<TD BORDER='0'><FONT>{node}: </TD>\"\n",
    "            graph.nodes[node]['label'] += f\"{label}</TR></TABLE>>\"\n",
    "\n",
    "\n",
    "            #graph.nodes[node]['label'] = label\n",
    "            ## The record node type supports ported nodes\n",
    "            #graph.nodes[node]['fontname'] = 'Courier'\n",
    "            #graph.nodes[node]['label'] = f\"node {node}:\"\n",
    "\n",
    "        for edge in graph.edges:\n",
    "            # Connect the head and tail of each edge to the correct port\n",
    "            graph.edges[edge]['headport'] = f\"{graph.edges[edge]['to_pos']}\"\n",
    "            graph.edges[edge]['tailport'] = f\"{graph.edges[edge]['from_pos']}\"\n",
    "\n",
    "        # Convert the networkx graph to a pygraphviz graph\n",
    "        graph = nx.nx_agraph.to_agraph(graph)\n",
    "\n",
    "        # Draw the graph using pygraphviz\n",
    "        graph.layout(prog='dot', args='-Grankdir=TD -Gsplines=true -Goverlap=scale')\n",
    "    \n",
    "        if save_dot:\n",
    "            # Save the graph as a dot file\n",
    "            graph.write(save_dot)\n",
    "\n",
    "        fig = SVG(graph.draw(prog='dot', format='svg'))\n",
    "\n",
    "\n",
    " \n",
    "\n",
    "        display(fig)\n",
    "\n",
    "\n",
    "G = BlockGraph()\n",
    "\n",
    "n1 = G.add_node('ATGTATACATCACGGC')\n",
    "n2 = G.add_node('TG')\n",
    "G.add_edge((n1, 7), (n2, 0))\n",
    "G.add_edge((n2, 1), (n1, 10))\n",
    "\n",
    "G.render_graph('test.dot')\n"
   ]
  },
  {
   "cell_type": "code",
   "execution_count": 17,
   "metadata": {},
   "outputs": [
    {
     "data": {
      "image/svg+xml": [
       "<svg xmlns=\"http://www.w3.org/2000/svg\" xmlns:xlink=\"http://www.w3.org/1999/xlink\" width=\"105pt\" height=\"45pt\" viewBox=\"0.00 0.00 105.00 45.00\">\n",
       "<g id=\"graph0\" class=\"graph\" transform=\"scale(1 1) rotate(0) translate(4 41)\">\n",
       "<polygon fill=\"white\" stroke=\"none\" points=\"-4,4 -4,-41 101,-41 101,4 -4,4\"/>\n",
       "<!-- 1 -->\n",
       "<g id=\"node1\" class=\"node\">\n",
       "<title>1</title>\n",
       "<polygon fill=\"none\" stroke=\"black\" points=\"0,-0.5 0,-36.5 97,-36.5 97,-0.5 0,-0.5\"/>\n",
       "<text text-anchor=\"middle\" x=\"12.12\" y=\"-13.45\" font-family=\"Courier,monospace\" font-size=\"14.00\">A</text>\n",
       "<polyline fill=\"none\" stroke=\"black\" points=\"24.25,-0.5 24.25,-36.5\"/>\n",
       "<text text-anchor=\"middle\" x=\"36.38\" y=\"-13.45\" font-family=\"Courier,monospace\" font-size=\"14.00\">T</text>\n",
       "<polyline fill=\"none\" stroke=\"black\" points=\"48.5,-0.5 48.5,-36.5\"/>\n",
       "<text text-anchor=\"middle\" x=\"60.62\" y=\"-13.45\" font-family=\"Courier,monospace\" font-size=\"14.00\">C</text>\n",
       "<polyline fill=\"none\" stroke=\"black\" points=\"72.75,-0.5 72.75,-36.5\"/>\n",
       "<text text-anchor=\"middle\" x=\"84.88\" y=\"-13.45\" font-family=\"Courier,monospace\" font-size=\"14.00\">G</text>\n",
       "</g>\n",
       "</g>\n",
       "</svg>"
      ],
      "text/plain": [
       "<IPython.core.display.SVG object>"
      ]
     },
     "metadata": {},
     "output_type": "display_data"
    }
   ],
   "source": [
    "# >BBa_K1896001\n",
    "# ATGAGTAAAGGAGAAGAACTTTTCACTGGAGTTGTCCCAATTCTTGTTGAATTAGATGGTGATGTTAATGGGCACAAATTTTCTGTCAGTGGAGAGGGTGAAGGTGATGCAACATACGGAAAACTTACCCTTAAATTTATTTGCACTACTGGAAAACTACCTGTTCCATGGCCAACACTTGTCACTACTTTCTCTTATGGTGTTCAATGCTTTTCCCGTTATCCGGATCATATGAAACGGCATGACTTTTTCAAGAGTGCCATGCCCGAAGGTTATGTACAGGAACGCACTATATCTTTCAAAGATGACGGGAACTACAAGACGCGTGCTGAAGTCAAGTTTGAAGGTGATACCCTTGTTAATCGTATCGAGTTAAAAGGTATTGATTTTAAAGAAGATGGAAACATTCTCGGACACAAACTGGAGTACAACTATAACTCACACAATGTATACATCACGGCAGACAAACAAAAGAATGGAATCAAAGCTAACTTCAAAATTCGCCACAACATTGAAGATGGCTCCGTTCAACTAGCAGACCATTATCAACAAAATACTCCAATTGGTGATGGCCCTGTCCTTTTACCAGACAACCATTACCTGTCGACACAATCTAAACTTTTGAAAGATCCCAACGAAAAGCGTGACCACATGGTCCTTCTTGAGTTTGTAACTGCTGCTGGGATTACACATGGCATGGATGAGCTCTACAAATAA\n"
   ]
  },
  {
   "cell_type": "code",
   "execution_count": 57,
   "metadata": {},
   "outputs": [
    {
     "data": {
      "image/svg+xml": [
       "<svg xmlns=\"http://www.w3.org/2000/svg\" xmlns:xlink=\"http://www.w3.org/1999/xlink\" width=\"413pt\" height=\"137pt\" viewBox=\"0.00 0.00 412.50 136.50\">\n",
       "<g id=\"graph0\" class=\"graph\" transform=\"scale(1 1) rotate(0) translate(4 132.5)\">\n",
       "<polygon fill=\"white\" stroke=\"none\" points=\"-4,4 -4,-132.5 408.5,-132.5 408.5,4 -4,4\"/>\n",
       "<!-- 1 -->\n",
       "<g id=\"node1\" class=\"node\">\n",
       "<title>1</title>\n",
       "<polygon fill=\"none\" stroke=\"black\" points=\"16.5,-74.5 16.5,-111.5 404.5,-111.5 404.5,-74.5 16.5,-74.5\"/>\n",
       "<text text-anchor=\"middle\" x=\"28.62\" y=\"-87.95\" font-family=\"Courier,monospace\" font-size=\"14.00\">A</text>\n",
       "<polyline fill=\"none\" stroke=\"black\" points=\"40.75,-74.5 40.75,-111.5\"/>\n",
       "<text text-anchor=\"middle\" x=\"52.88\" y=\"-87.95\" font-family=\"Courier,monospace\" font-size=\"14.00\">T</text>\n",
       "<polyline fill=\"none\" stroke=\"black\" points=\"65,-74.5 65,-111.5\"/>\n",
       "<text text-anchor=\"middle\" x=\"77.12\" y=\"-87.95\" font-family=\"Courier,monospace\" font-size=\"14.00\">G</text>\n",
       "<polyline fill=\"none\" stroke=\"black\" points=\"89.25,-74.5 89.25,-111.5\"/>\n",
       "<text text-anchor=\"middle\" x=\"101.38\" y=\"-87.95\" font-family=\"Courier,monospace\" font-size=\"14.00\">T</text>\n",
       "<polyline fill=\"none\" stroke=\"black\" points=\"113.5,-74.5 113.5,-111.5\"/>\n",
       "<text text-anchor=\"middle\" x=\"125.62\" y=\"-87.95\" font-family=\"Courier,monospace\" font-size=\"14.00\">A</text>\n",
       "<polyline fill=\"none\" stroke=\"black\" points=\"137.75,-74.5 137.75,-111.5\"/>\n",
       "<text text-anchor=\"middle\" x=\"149.88\" y=\"-87.95\" font-family=\"Courier,monospace\" font-size=\"14.00\">T</text>\n",
       "<polyline fill=\"none\" stroke=\"black\" points=\"162,-74.5 162,-111.5\"/>\n",
       "<text text-anchor=\"middle\" x=\"174.12\" y=\"-87.95\" font-family=\"Courier,monospace\" font-size=\"14.00\">A</text>\n",
       "<polyline fill=\"none\" stroke=\"black\" points=\"186.25,-74.5 186.25,-111.5\"/>\n",
       "<text text-anchor=\"middle\" x=\"198.38\" y=\"-87.95\" font-family=\"Courier,monospace\" font-size=\"14.00\">C</text>\n",
       "<polyline fill=\"none\" stroke=\"black\" points=\"210.5,-74.5 210.5,-111.5\"/>\n",
       "<text text-anchor=\"middle\" x=\"222.62\" y=\"-87.95\" font-family=\"Courier,monospace\" font-size=\"14.00\">A</text>\n",
       "<polyline fill=\"none\" stroke=\"black\" points=\"234.75,-74.5 234.75,-111.5\"/>\n",
       "<text text-anchor=\"middle\" x=\"246.88\" y=\"-87.95\" font-family=\"Courier,monospace\" font-size=\"14.00\">T</text>\n",
       "<polyline fill=\"none\" stroke=\"black\" points=\"259,-74.5 259,-111.5\"/>\n",
       "<text text-anchor=\"middle\" x=\"271.12\" y=\"-87.95\" font-family=\"Courier,monospace\" font-size=\"14.00\">C</text>\n",
       "<polyline fill=\"none\" stroke=\"black\" points=\"283.25,-74.5 283.25,-111.5\"/>\n",
       "<text text-anchor=\"middle\" x=\"295.38\" y=\"-87.95\" font-family=\"Courier,monospace\" font-size=\"14.00\">A</text>\n",
       "<polyline fill=\"none\" stroke=\"black\" points=\"307.5,-74.5 307.5,-111.5\"/>\n",
       "<text text-anchor=\"middle\" x=\"319.62\" y=\"-87.95\" font-family=\"Courier,monospace\" font-size=\"14.00\">C</text>\n",
       "<polyline fill=\"none\" stroke=\"black\" points=\"331.75,-74.5 331.75,-111.5\"/>\n",
       "<text text-anchor=\"middle\" x=\"343.88\" y=\"-87.95\" font-family=\"Courier,monospace\" font-size=\"14.00\">G</text>\n",
       "<polyline fill=\"none\" stroke=\"black\" points=\"356,-74.5 356,-111.5\"/>\n",
       "<text text-anchor=\"middle\" x=\"368.12\" y=\"-87.95\" font-family=\"Courier,monospace\" font-size=\"14.00\">G</text>\n",
       "<polyline fill=\"none\" stroke=\"black\" points=\"380.25,-74.5 380.25,-111.5\"/>\n",
       "<text text-anchor=\"middle\" x=\"392.38\" y=\"-87.95\" font-family=\"Courier,monospace\" font-size=\"14.00\">C</text>\n",
       "<text text-anchor=\"middle\" x=\"8.25\" y=\"-115.2\" font-family=\"Courier,monospace\" font-size=\"14.00\">1:</text>\n",
       "</g>\n",
       "<!-- 2 -->\n",
       "<g id=\"node2\" class=\"node\">\n",
       "<title>2</title>\n",
       "<polygon fill=\"none\" stroke=\"black\" points=\"207.5,-0.5 207.5,-37.5 261.5,-37.5 261.5,-0.5 207.5,-0.5\"/>\n",
       "<text text-anchor=\"middle\" x=\"220.63\" y=\"-13.95\" font-family=\"Courier,monospace\" font-size=\"14.00\">T</text>\n",
       "<polyline fill=\"none\" stroke=\"black\" points=\"233.75,-0.5 233.75,-37.5\"/>\n",
       "<text text-anchor=\"middle\" x=\"247.38\" y=\"-13.95\" font-family=\"Courier,monospace\" font-size=\"14.00\">G</text>\n",
       "<text text-anchor=\"middle\" x=\"199.25\" y=\"-41.2\" font-family=\"Courier,monospace\" font-size=\"14.00\">2:</text>\n",
       "</g>\n",
       "<!-- 1&#45;&gt;2 -->\n",
       "<g id=\"edge1\" class=\"edge\">\n",
       "<title>1:7-&gt;2:0</title>\n",
       "<path fill=\"none\" stroke=\"black\" d=\"M198.38,-74C198.38,-59.89 210.89,-57.28 217.15,-48.92\"/>\n",
       "<polygon fill=\"black\" stroke=\"black\" points=\"220.47,-50.03 220.17,-39.44 213.8,-47.91 220.47,-50.03\"/>\n",
       "</g>\n",
       "<!-- 2&#45;&gt;1 -->\n",
       "<g id=\"edge2\" class=\"edge\">\n",
       "<title>2:1-&gt;1:10</title>\n",
       "<path fill=\"none\" stroke=\"black\" d=\"M247.38,-38C247.38,-52.53 261.01,-54.7 267.62,-63.25\"/>\n",
       "<polygon fill=\"black\" stroke=\"black\" points=\"264.23,-64.14 270.66,-72.56 270.89,-61.97 264.23,-64.14\"/>\n",
       "</g>\n",
       "</g>\n",
       "</svg>"
      ],
      "text/plain": [
       "<IPython.core.display.SVG object>"
      ]
     },
     "metadata": {},
     "output_type": "display_data"
    }
   ],
   "source": [
    "for n in foo.nodes_iter():\n",
    "    node_pos = [float(s) for s in foo.get_node(n).attr['pos'].split(',')]\n",
    "    caption_pos = [float(s) for s in foo.get_node(n).attr['xlp'].split(',')]\n",
    "    caption_pos[0] = node_pos[0]\n",
    "    foo.get_node(n).attr['xlp'] = f\"{caption_pos[0]},{caption_pos[1]}\"\n",
    "\n",
    "\n",
    "foo.write('test.dot')\n",
    "\n"
   ]
  },
  {
   "cell_type": "code",
   "execution_count": 43,
   "metadata": {},
   "outputs": [
    {
     "name": "stdout",
     "output_type": "stream",
     "text": [
      "['__class__', '__contains__', '__del__', '__delattr__', '__dict__', '__dir__', '__doc__', '__enter__', '__eq__', '__exit__', '__format__', '__ge__', '__getattribute__', '__getitem__', '__getstate__', '__gt__', '__hash__', '__init__', '__init_subclass__', '__iter__', '__le__', '__len__', '__lt__', '__module__', '__ne__', '__new__', '__reduce__', '__reduce_ex__', '__repr__', '__setattr__', '__sizeof__', '__str__', '__subclasshook__', '__weakref__', '_close_handle', '_draw', '_get_fh', '_get_prog', '_layout', '_manually_parse_args', '_owns_handle', '_prepare_nbunch', '_repr_mimebundle_', '_run_prog', '_svg_repr', '_update_handle_references', '_which', 'acyclic', 'add_cycle', 'add_edge', 'add_edges_from', 'add_node', 'add_nodes_from', 'add_path', 'add_subgraph', 'clear', 'close', 'copy', 'degree', 'degree_iter', 'delete_edge', 'delete_edges_from', 'delete_node', 'delete_nodes_from', 'delete_subgraph', 'directed', 'draw', 'edge_attr', 'edges', 'edges_iter', 'encoding', 'from_string', 'get_edge', 'get_name', 'get_node', 'get_subgraph', 'graph_attr', 'handle', 'has_edge', 'has_layout', 'has_neighbor', 'has_node', 'in_degree', 'in_degree_iter', 'in_edges', 'in_edges_iter', 'in_neighbors', 'is_directed', 'is_strict', 'is_undirected', 'iterdegree', 'iteredges', 'iterindegree', 'iterinedges', 'iterneighbors', 'iternodes', 'iteroutdegree', 'iteroutedges', 'iterpred', 'itersucc', 'layout', 'name', 'neighbors', 'neighbors_iter', 'node_attr', 'nodes', 'nodes_iter', 'number_of_edges', 'number_of_nodes', 'order', 'out_degree', 'out_degree_iter', 'out_edges', 'out_edges_iter', 'out_neighbors', 'predecessors', 'predecessors_iter', 'read', 'remove_edge', 'remove_edges_from', 'remove_node', 'remove_nodes_from', 'remove_subgraph', 'reverse', 'strict', 'string', 'string_nop', 'subgraph', 'subgraph_parent', 'subgraph_root', 'subgraphs', 'subgraphs_iter', 'successors', 'successors_iter', 'to_directed', 'to_string', 'to_undirected', 'tred', 'unflatten', 'write']\n"
     ]
    }
   ],
   "source": [
    "print(dir(foo))"
   ]
  },
  {
   "cell_type": "code",
   "execution_count": null,
   "metadata": {},
   "outputs": [],
   "source": []
  }
 ],
 "metadata": {
  "kernelspec": {
   "display_name": ".venv",
   "language": "python",
   "name": "python3"
  },
  "language_info": {
   "codemirror_mode": {
    "name": "ipython",
    "version": 3
   },
   "file_extension": ".py",
   "mimetype": "text/x-python",
   "name": "python",
   "nbconvert_exporter": "python",
   "pygments_lexer": "ipython3",
   "version": "3.12.6"
  }
 },
 "nbformat": 4,
 "nbformat_minor": 2
}
