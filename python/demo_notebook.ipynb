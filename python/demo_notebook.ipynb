{
 "cells": [
  {
   "cell_type": "markdown",
   "metadata": {},
   "source": [
    "# Gen Python API Tutorial\n",
    "\n",
    "This notebook demonstrates how to use the Gen Python API for graph-based genomic data management with git-like versioning capabilities. We start off by initializing a new repository:\n"
   ]
  },
  {
   "cell_type": "code",
   "execution_count": 1,
   "metadata": {},
   "outputs": [],
   "source": [
    "import gen\n",
    "\n",
    "repo = gen.Repository()\n"
   ]
  },
  {
   "cell_type": "markdown",
   "metadata": {},
   "source": [
    "This searches the current working directory for a `.gen` folder that holds the data and operations infrastructure. If no existing repository was found, a new .gen folder and database will be created.  You can also load a local repository that is outside of the present working directory by specifying the location of its .gen folder."
   ]
  },
  {
   "cell_type": "code",
   "execution_count": 2,
   "metadata": {},
   "outputs": [],
   "source": [
    "repo = gen.Repository('../.gen/')"
   ]
  },
  {
   "cell_type": "markdown",
   "metadata": {},
   "source": [
    "The repository can be queried directly, or through the methods shown in the next section."
   ]
  },
  {
   "cell_type": "code",
   "execution_count": 3,
   "metadata": {},
   "outputs": [
    {
     "name": "stdout",
     "output_type": "stream",
     "text": [
      "Number of block groups: 19\n"
     ]
    }
   ],
   "source": [
    "result = repo.query(\"SELECT COUNT(*) FROM block_groups\")\n",
    "print(f\"Number of block groups: {result[0][0]}\")"
   ]
  },
  {
   "cell_type": "markdown",
   "metadata": {},
   "source": [
    "## Working with Graphs\n",
    "\n",
    "Gen organizes genomic data in graphs. Let's explore how to access and work with graphs. Internally, these are called block_groups. (TODO: expose as graph/region/contig/..., not block_group)"
   ]
  },
  {
   "cell_type": "code",
   "execution_count": 4,
   "metadata": {},
   "outputs": [
    {
     "data": {
      "text/plain": [
       "[BlockGroup(1, default, None, ref|NC_001133|),\n",
       " BlockGroup(2, default, None, ref|NC_001134|),\n",
       " BlockGroup(3, default, None, ref|NC_001135|),\n",
       " BlockGroup(4, default, None, ref|NC_001136|),\n",
       " BlockGroup(5, default, None, ref|NC_001137|),\n",
       " BlockGroup(6, default, None, ref|NC_001138|),\n",
       " BlockGroup(7, default, None, ref|NC_001139|),\n",
       " BlockGroup(8, default, None, ref|NC_001140|),\n",
       " BlockGroup(9, default, None, ref|NC_001141|),\n",
       " BlockGroup(10, default, None, ref|NC_001142|),\n",
       " BlockGroup(11, default, None, ref|NC_001143|),\n",
       " BlockGroup(12, default, None, ref|NC_001144|),\n",
       " BlockGroup(13, default, None, ref|NC_001145|),\n",
       " BlockGroup(14, default, None, ref|NC_001146|),\n",
       " BlockGroup(15, default, None, ref|NC_001147|),\n",
       " BlockGroup(16, default, None, ref|NC_001148|),\n",
       " BlockGroup(17, default, None, ref|NC_001224|),\n",
       " BlockGroup(18, default, None, U00096.3),\n",
       " BlockGroup(19, default, None, )]"
      ]
     },
     "metadata": {},
     "output_type": "display_data"
    }
   ],
   "source": [
    "collection_contents = repo.get_block_groups_by_collection('default')\n",
    "display(collection_contents)\n"
   ]
  },
  {
   "cell_type": "markdown",
   "metadata": {},
   "source": [
    "## Networkx\n",
    "Arguably the most popular graph library for Python"
   ]
  },
  {
   "cell_type": "code",
   "execution_count": null,
   "metadata": {},
   "outputs": [],
   "source": [
    "try:\n",
    "    import networkx as nx\n",
    "    import matplotlib.pyplot as plt\n",
    "\n",
    "    nx_repr = repo.block_group_to_networkx(collection_contents[-1])\n",
    "    print(f\"Converted to NetworkX graph with {nx_repr.number_of_nodes()} nodes and {nx_repr.number_of_edges()} edges\")\n",
    "    \n",
    "    # Analyze the graph\n",
    "    if nx_repr.number_of_nodes() > 0:\n",
    "        # Get node degrees\n",
    "        degrees = [nx_repr.degree(n) for n in nx_repr.nodes()]\n",
    "        avg_degree = sum(degrees) / len(degrees) if degrees else 0\n",
    "        print(f\"Average node degree: {avg_degree:.2f}\")\n",
    "\n",
    "    # Draw the graph\n",
    "    plt.figure()\n",
    "    nx.draw(nx_repr, with_labels=True)\n",
    "    plt.show()\n",
    "        \n",
    "except ImportError:\n",
    "    print(\"NetworkX not installed. Install with: pip install networkx\")"
   ]
  },
  {
   "cell_type": "markdown",
   "metadata": {},
   "source": [
    "## RustworkX\n",
    "Similar to NetworkX but built on Rust under the hood."
   ]
  },
  {
   "cell_type": "code",
   "execution_count": null,
   "metadata": {},
   "outputs": [],
   "source": [
    "try:\n",
    "    import rustworkx as rx\n",
    "    import rustworkx.visualization as rxv\n",
    "\n",
    "    rx_repr = repo.block_group_to_rustworkx(collection_contents[-1])\n",
    "\n",
    "    display(rxv.graphviz_draw(rx_repr))\n",
    "\n",
    "except ImportError:\n",
    "    print(\"RustworkX not installed. Install with: pip install rustworkx\")\n",
    "\n",
    "\n"
   ]
  },
  {
   "cell_type": "markdown",
   "metadata": {},
   "source": [
    "## Dictionary"
   ]
  },
  {
   "cell_type": "code",
   "execution_count": null,
   "metadata": {},
   "outputs": [],
   "source": [
    "dict_repr = repo.block_group_to_dict(collection_contents[-1])\n",
    "print(\"Edges in the form of pairs of block identifier tuples (block_id, node_id, start, end):\")\n",
    "display(dict_repr['edges'])\n",
    "\n",
    "\n",
    "print(\"Node identifiers are also stored as node attributes:\")\n",
    "display(dict_repr['nodes'])"
   ]
  },
  {
   "cell_type": "markdown",
   "metadata": {},
   "source": []
  }
 ],
 "metadata": {
  "kernelspec": {
   "display_name": ".venv",
   "language": "python",
   "name": "python3"
  },
  "language_info": {
   "codemirror_mode": {
    "name": "ipython",
    "version": 3
   },
   "file_extension": ".py",
   "mimetype": "text/x-python",
   "name": "python",
   "nbconvert_exporter": "python",
   "pygments_lexer": "ipython3",
   "version": "3.12.9"
  }
 },
 "nbformat": 4,
 "nbformat_minor": 4
}
