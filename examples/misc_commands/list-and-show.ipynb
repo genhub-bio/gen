{
 "cells": [
  {
   "cell_type": "markdown",
   "id": "1c560a6a-f6fa-4eca-923f-67dbca2d80c5",
   "metadata": {},
   "source": [
    "This notebook is just for demonstrating a few convenience subcommands, like listing samples or graphs, and showing the current path sequence for a graph."
   ]
  },
  {
   "cell_type": "code",
   "execution_count": 1,
   "id": "da806d18-329b-4291-8f04-0d9637280af9",
   "metadata": {},
   "outputs": [
    {
     "name": "stdout",
     "output_type": "stream",
     "text": [
      "zsh:1: no matches found: *.db\n"
     ]
    }
   ],
   "source": [
    "# Clean up any lingering old files\n",
    "!rm -rf .gen\n",
    "!rm *.db\n"
   ]
  },
  {
   "cell_type": "code",
   "execution_count": 2,
   "id": "36b71f73-09b7-4fda-9bf0-f35ba72dcb1b",
   "metadata": {},
   "outputs": [
    {
     "name": "stdout",
     "output_type": "stream",
     "text": [
      "Gen repository initialized.\n",
      "Default database set to simple.db\n",
      "Default collection set to simple\n"
     ]
    }
   ],
   "source": [
    "!gen init\n",
    "!gen defaults --database simple.db --collection simple\n"
   ]
  },
  {
   "cell_type": "code",
   "execution_count": 3,
   "id": "c6db0bde-83eb-4dc7-b2c8-54897d492fc5",
   "metadata": {},
   "outputs": [
    {
     "name": "stdout",
     "output_type": "stream",
     "text": [
      "Fasta imported.\n",
      "Error { code: ConstraintViolation, extended_code: 2067 } Some(\"UNIQUE constraint failed: nodes.hash\")\n",
      "Error { code: ConstraintViolation, extended_code: 2067 } Some(\"UNIQUE constraint failed: nodes.hash\")\n",
      "Error { code: ConstraintViolation, extended_code: 2067 } Some(\"UNIQUE constraint failed: nodes.hash\")\n",
      "Error { code: ConstraintViolation, extended_code: 2067 } Some(\"UNIQUE constraint failed: nodes.hash\")\n"
     ]
    }
   ],
   "source": [
    "!gen import --fasta ../../fixtures/simple.fa\n",
    "!gen update --vcf ../../fixtures/simple.vcf"
   ]
  },
  {
   "cell_type": "code",
   "execution_count": 4,
   "id": "09b88d42-455c-4654-af5a-4a92e5907fc1",
   "metadata": {},
   "outputs": [
    {
     "name": "stdout",
     "output_type": "stream",
     "text": [
      "unknown\n",
      "G1\n",
      "foo\n"
     ]
    }
   ],
   "source": [
    "!gen list-samples"
   ]
  },
  {
   "cell_type": "code",
   "execution_count": 6,
   "id": "d0b3c40a-a825-4527-90d0-953cf7546c67",
   "metadata": {},
   "outputs": [
    {
     "name": "stdout",
     "output_type": "stream",
     "text": [
      "m123\n"
     ]
    }
   ],
   "source": [
    "!gen list-graphs --sample foo"
   ]
  },
  {
   "cell_type": "code",
   "execution_count": 7,
   "id": "1e2ef210-64af-4411-b0d0-534615754044",
   "metadata": {},
   "outputs": [
    {
     "name": "stdout",
     "output_type": "stream",
     "text": [
      "ATCGATCGATCGATCGATCGGGAACACACAGAGA\n"
     ]
    }
   ],
   "source": [
    "!gen show-sequence --sample foo --graph m123"
   ]
  },
  {
   "cell_type": "code",
   "execution_count": 8,
   "id": "86bf0bcc-a33c-4826-8033-2441bd2ce985",
   "metadata": {},
   "outputs": [
    {
     "name": "stdout",
     "output_type": "stream",
     "text": [
      "GGAACACACA\n"
     ]
    }
   ],
   "source": [
    "!gen show-sequence --sample unknown --graph m123 --start 20 --end 30"
   ]
  },
  {
   "cell_type": "code",
   "execution_count": null,
   "id": "57eb695e-aee6-4741-bf18-685ee7667e19",
   "metadata": {},
   "outputs": [],
   "source": []
  }
 ],
 "metadata": {
  "kernelspec": {
   "display_name": "Python 3 (ipykernel)",
   "language": "python",
   "name": "python3"
  },
  "language_info": {
   "codemirror_mode": {
    "name": "ipython",
    "version": 3
   },
   "file_extension": ".py",
   "mimetype": "text/x-python",
   "name": "python",
   "nbconvert_exporter": "python",
   "pygments_lexer": "ipython3",
   "version": "3.11.10"
  }
 },
 "nbformat": 4,
 "nbformat_minor": 5
}
